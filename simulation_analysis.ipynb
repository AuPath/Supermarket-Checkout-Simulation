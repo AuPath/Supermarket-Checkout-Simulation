{
 "cells": [
  {
   "cell_type": "code",
   "execution_count": 187,
   "source": [
    "import pandas as pd\n",
    "import pickle\n",
    "from os import listdir\n",
    "from os.path import join\n",
    "import plotly.graph_objects as go\n",
    "import regex as re\n",
    "import itertools\n",
    "\n",
    "STEPS_IN_HOUR = 120\n",
    "INPUT_PATH = 'pickle'"
   ],
   "outputs": [],
   "metadata": {}
  },
  {
   "cell_type": "code",
   "execution_count": 188,
   "source": [
    "data_collector_files = [f for f in listdir(INPUT_PATH) if re.match('datacollector', f)]\n",
    "data_collector_files"
   ],
   "outputs": [
    {
     "output_type": "execute_result",
     "data": {
      "text/plain": [
       "['datacollector$prob_coda4_jockey2$1630369298.pkl',\n",
       " 'datacollector$coda3_jockey2$1630369287.pkl',\n",
       " 'datacollector$validazione_1$1630369269.pkl',\n",
       " 'datacollector$prob_coda1_jockey1$1630369261.pkl',\n",
       " 'datacollector$coda2_jockey2$1630369254.pkl',\n",
       " 'datacollector$validazione_3$1630369291.pkl',\n",
       " 'datacollector$coda3_jockey1$1630369285.pkl',\n",
       " 'datacollector$prob_coda2_jockey2$1630369266.pkl',\n",
       " 'datacollector$prob_coda3_jockey1$1630369303.pkl',\n",
       " 'datacollector$validazione_4$1630369283.pkl',\n",
       " 'datacollector$codacondivisa$1630369237.pkl',\n",
       " 'datacollector$coda4_jockey1$1630369264.pkl',\n",
       " 'datacollector$prob_coda1_jockey2$1630369294.pkl',\n",
       " 'datacollector$validazione_2$1630369272.pkl',\n",
       " 'datacollector$prob_coda4_jockey1$1630369280.pkl',\n",
       " 'datacollector$prob_coda3_jockey2$1630369245.pkl',\n",
       " 'datacollector$self_scan$1630369279.pkl',\n",
       " 'datacollector$coda1_jockey1$1630369264.pkl',\n",
       " 'datacollector$coda1_jockey2$1630369239.pkl',\n",
       " 'datacollector$coda4_jockey2$1630369303.pkl',\n",
       " 'datacollector$coda2_jockey1$1630369258.pkl',\n",
       " 'datacollector$prob_coda2_jockey1$1630369250.pkl']"
      ]
     },
     "metadata": {},
     "execution_count": 188
    }
   ],
   "metadata": {}
  },
  {
   "cell_type": "code",
   "execution_count": 191,
   "source": [
    "def read_pickle_file(filename):\n",
    "    with open(join(INPUT_PATH, filename), 'rb') as f:\n",
    "        return pickle.load(f)\n",
    "\n",
    "def read_simulation(filename, df_arrivals, steps_in_hour=STEPS_IN_HOUR):\n",
    "    simulation_dict = read_pickle_file(filename)\n",
    "    simulation_df = pd.DataFrame(simulation_dict)\n",
    "    # Add simulation name\n",
    "    simulation_name = filename.split('$')[1]\n",
    "    full_length = steps_in_hour * len(df_arrivals)\n",
    "    q, r = len(simulation_df) // full_length, len(simulation_df) % full_length\n",
    "    simulation_df[\"simulation_name\"] = [simulation_name] * (q * full_length + r)\n",
    "    # Add hours\n",
    "    hours = [([hour]*steps_in_hour) for hour in df_arrivals[\"hour\"]] * q\n",
    "    hours = hours + [[df_arrivals[\"hour\"].iloc[-1]] * (len(simulation_df) % full_length)]\n",
    "    simulation_df[\"hour\"] = list(itertools.chain(*hours))\n",
    "\n",
    "    return simulation_df\n",
    "\n",
    "df_arrivals = read_pickle_file('df_arrivals_aggregated.pkl')\n",
    "\n",
    "df_simulations = pd.concat([read_simulation(x, df_arrivals) for x in data_collector_files])\n",
    "df_simulations.head()\n"
   ],
   "outputs": [
    {
     "output_type": "execute_result",
     "data": {
      "text/html": [
       "<div>\n",
       "<style scoped>\n",
       "    .dataframe tbody tr th:only-of-type {\n",
       "        vertical-align: middle;\n",
       "    }\n",
       "\n",
       "    .dataframe tbody tr th {\n",
       "        vertical-align: top;\n",
       "    }\n",
       "\n",
       "    .dataframe thead th {\n",
       "        text-align: right;\n",
       "    }\n",
       "</style>\n",
       "<table border=\"1\" class=\"dataframe\">\n",
       "  <thead>\n",
       "    <tr style=\"text-align: right;\">\n",
       "      <th></th>\n",
       "      <th>Total_customers</th>\n",
       "      <th>Density_total</th>\n",
       "      <th>Flow_total</th>\n",
       "      <th>Density_standard</th>\n",
       "      <th>Flow_standard</th>\n",
       "      <th>Density_self_scan</th>\n",
       "      <th>Flow_self_scan</th>\n",
       "      <th>Total_steps</th>\n",
       "      <th>Avg_waiting_times_standard</th>\n",
       "      <th>Avg_waiting_times_self_scan</th>\n",
       "      <th>Number_exiting_customers</th>\n",
       "      <th>simulation_name</th>\n",
       "      <th>hour</th>\n",
       "    </tr>\n",
       "  </thead>\n",
       "  <tbody>\n",
       "    <tr>\n",
       "      <th>0</th>\n",
       "      <td>1</td>\n",
       "      <td>0.045455</td>\n",
       "      <td>0.045455</td>\n",
       "      <td>0.000000</td>\n",
       "      <td>0.000000</td>\n",
       "      <td>0.2</td>\n",
       "      <td>0.2</td>\n",
       "      <td>2</td>\n",
       "      <td>0.0</td>\n",
       "      <td>0.0</td>\n",
       "      <td>0</td>\n",
       "      <td>prob_coda4_jockey2</td>\n",
       "      <td>8</td>\n",
       "    </tr>\n",
       "    <tr>\n",
       "      <th>1</th>\n",
       "      <td>2</td>\n",
       "      <td>0.090909</td>\n",
       "      <td>0.045455</td>\n",
       "      <td>0.058824</td>\n",
       "      <td>0.058824</td>\n",
       "      <td>0.2</td>\n",
       "      <td>0.0</td>\n",
       "      <td>3</td>\n",
       "      <td>0.0</td>\n",
       "      <td>0.0</td>\n",
       "      <td>0</td>\n",
       "      <td>prob_coda4_jockey2</td>\n",
       "      <td>8</td>\n",
       "    </tr>\n",
       "    <tr>\n",
       "      <th>2</th>\n",
       "      <td>3</td>\n",
       "      <td>0.136364</td>\n",
       "      <td>0.045455</td>\n",
       "      <td>0.117647</td>\n",
       "      <td>0.058824</td>\n",
       "      <td>0.2</td>\n",
       "      <td>0.0</td>\n",
       "      <td>4</td>\n",
       "      <td>0.0</td>\n",
       "      <td>0.0</td>\n",
       "      <td>0</td>\n",
       "      <td>prob_coda4_jockey2</td>\n",
       "      <td>8</td>\n",
       "    </tr>\n",
       "    <tr>\n",
       "      <th>3</th>\n",
       "      <td>3</td>\n",
       "      <td>0.136364</td>\n",
       "      <td>0.000000</td>\n",
       "      <td>0.117647</td>\n",
       "      <td>0.000000</td>\n",
       "      <td>0.2</td>\n",
       "      <td>0.0</td>\n",
       "      <td>5</td>\n",
       "      <td>0.0</td>\n",
       "      <td>0.0</td>\n",
       "      <td>0</td>\n",
       "      <td>prob_coda4_jockey2</td>\n",
       "      <td>8</td>\n",
       "    </tr>\n",
       "    <tr>\n",
       "      <th>4</th>\n",
       "      <td>4</td>\n",
       "      <td>0.181818</td>\n",
       "      <td>0.045455</td>\n",
       "      <td>0.176471</td>\n",
       "      <td>0.058824</td>\n",
       "      <td>0.2</td>\n",
       "      <td>0.0</td>\n",
       "      <td>6</td>\n",
       "      <td>0.0</td>\n",
       "      <td>0.0</td>\n",
       "      <td>0</td>\n",
       "      <td>prob_coda4_jockey2</td>\n",
       "      <td>8</td>\n",
       "    </tr>\n",
       "  </tbody>\n",
       "</table>\n",
       "</div>"
      ],
      "text/plain": [
       "   Total_customers  Density_total  Flow_total  Density_standard  \\\n",
       "0                1       0.045455    0.045455          0.000000   \n",
       "1                2       0.090909    0.045455          0.058824   \n",
       "2                3       0.136364    0.045455          0.117647   \n",
       "3                3       0.136364    0.000000          0.117647   \n",
       "4                4       0.181818    0.045455          0.176471   \n",
       "\n",
       "   Flow_standard  Density_self_scan  Flow_self_scan  Total_steps  \\\n",
       "0       0.000000                0.2             0.2            2   \n",
       "1       0.058824                0.2             0.0            3   \n",
       "2       0.058824                0.2             0.0            4   \n",
       "3       0.000000                0.2             0.0            5   \n",
       "4       0.058824                0.2             0.0            6   \n",
       "\n",
       "   Avg_waiting_times_standard  Avg_waiting_times_self_scan  \\\n",
       "0                         0.0                          0.0   \n",
       "1                         0.0                          0.0   \n",
       "2                         0.0                          0.0   \n",
       "3                         0.0                          0.0   \n",
       "4                         0.0                          0.0   \n",
       "\n",
       "   Number_exiting_customers     simulation_name  hour  \n",
       "0                         0  prob_coda4_jockey2     8  \n",
       "1                         0  prob_coda4_jockey2     8  \n",
       "2                         0  prob_coda4_jockey2     8  \n",
       "3                         0  prob_coda4_jockey2     8  \n",
       "4                         0  prob_coda4_jockey2     8  "
      ]
     },
     "metadata": {},
     "execution_count": 191
    }
   ],
   "metadata": {
    "pycharm": {
     "name": "#%%\n"
    }
   }
  },
  {
   "cell_type": "code",
   "execution_count": 193,
   "source": [
    "aggregate_hours = lambda df: df.groupby(by=['hour']).mean().reset_index()\n",
    "\n",
    "def add_simulation_to_plot(fig, df_simulations, simulation_name, feature, normalize=True):\n",
    "    target_simulation = df_simulations.query(f'simulation_name == \"{simulation_name}\"')\n",
    "    df = aggregate_hours(target_simulation)\n",
    "    y_values = df[feature]\n",
    "    if normalize:\n",
    "        y_values = y_values / sum(y_values)\n",
    "    fig.add_trace(go.Scatter(x=df[\"hour\"], y=y_values,\n",
    "                             mode='lines+markers', name=simulation_name))\n",
    "    return fig\n",
    "\n",
    "def plot_simulation_comparison(df_arrivals, normalize=True):\n",
    "\n",
    "    fig = go.Figure()\n",
    "    y_values = df_arrivals[\"value\"]\n",
    "    dtick = 15\n",
    "    if normalize:\n",
    "        y_values = y_values / sum(y_values)\n",
    "        dtick = 0.01\n",
    "    fig.add_trace(go.Scatter(x=df_arrivals[\"hour\"], y=y_values,\n",
    "                             mode='lines+markers', name='Ground truth'))\n",
    "\n",
    "    fig.update_layout(\n",
    "        xaxis = dict(\n",
    "            tickmode = 'linear',\n",
    "            tick0 = 0,\n",
    "            dtick = 1\n",
    "        ),\n",
    "        yaxis = dict(\n",
    "            tickmode = 'linear',\n",
    "            tick0 = 0,\n",
    "            dtick = dtick\n",
    "        ),\n",
    "        title={\n",
    "            'text': 'Real data vs simulation' + ' (Normalized)' if normalize else '',\n",
    "            'y':0.95,\n",
    "            'x':0.5,\n",
    "            'xanchor': 'center',\n",
    "            'yanchor': 'top'},\n",
    "        xaxis_title=\"Hour\",\n",
    "        yaxis_title=\"Number of incoming customers\" + ' (Normalized)' if normalize else '',\n",
    "        legend_title=\"Distribution\",\n",
    "    )\n",
    "    return fig"
   ],
   "outputs": [],
   "metadata": {
    "pycharm": {
     "name": "#%%\n"
    }
   }
  },
  {
   "cell_type": "code",
   "execution_count": 195,
   "source": [
    "fig = plot_simulation_comparison(df_arrivals, normalize=False)\n",
    "fig = add_simulation_to_plot(fig, df_simulations, 'validazione_1', \"Total_customers\", normalize=False)\n",
    "fig = add_simulation_to_plot(fig, df_simulations, 'validazione_2', \"Total_customers\", normalize=False)\n",
    "fig.show()"
   ],
   "outputs": [
    {
     "output_type": "display_data",
     "data": {
      "application/vnd.plotly.v1+json": {
       "config": {
        "plotlyServerURL": "https://plot.ly"
       },
       "data": [
        {
         "mode": "lines+markers",
         "name": "Ground truth",
         "type": "scatter",
         "x": [
          8,
          9,
          10,
          11,
          12,
          13,
          14,
          15,
          16,
          17,
          18,
          19,
          20,
          21,
          22
         ],
         "y": [
          116.3690476190476,
          150.25,
          196.85714285714286,
          224.4642857142857,
          231.79761904761904,
          221.3571428571429,
          208.58333333333334,
          193.04761904761904,
          197,
          207.04761904761904,
          203.04761904761904,
          172.6309523809524,
          130.36904761904762,
          100.42857142857143,
          17.047619047619047
         ]
        },
        {
         "mode": "lines+markers",
         "name": "validazione_1",
         "type": "scatter",
         "x": [
          8,
          9,
          10,
          11,
          12,
          13,
          14,
          15,
          16,
          17,
          18,
          19,
          20,
          21,
          22
         ],
         "y": [
          26.325,
          53.858333333333334,
          80.15833333333333,
          86.625,
          88.09166666666667,
          92.96666666666667,
          78.83333333333333,
          86.51666666666667,
          85.85,
          90.63333333333334,
          93.00833333333334,
          68.64166666666667,
          54.358333333333334,
          44.675,
          10.412541254125413
         ]
        },
        {
         "mode": "lines+markers",
         "name": "validazione_2",
         "type": "scatter",
         "x": [
          8,
          9,
          10,
          11,
          12,
          13,
          14,
          15,
          16,
          17,
          18,
          19,
          20,
          21,
          22
         ],
         "y": [
          23.408333333333335,
          42.891666666666666,
          72.025,
          86.23333333333333,
          97.66666666666667,
          93.13333333333334,
          75.925,
          89.85833333333333,
          71.01666666666667,
          75.325,
          83.19166666666666,
          81.325,
          61.25,
          47.55833333333333,
          16.450704225352112
         ]
        }
       ],
       "layout": {
        "legend": {
         "title": {
          "text": "Distribution"
         }
        },
        "template": {
         "data": {
          "bar": [
           {
            "error_x": {
             "color": "#2a3f5f"
            },
            "error_y": {
             "color": "#2a3f5f"
            },
            "marker": {
             "line": {
              "color": "#E5ECF6",
              "width": 0.5
             },
             "pattern": {
              "fillmode": "overlay",
              "size": 10,
              "solidity": 0.2
             }
            },
            "type": "bar"
           }
          ],
          "barpolar": [
           {
            "marker": {
             "line": {
              "color": "#E5ECF6",
              "width": 0.5
             },
             "pattern": {
              "fillmode": "overlay",
              "size": 10,
              "solidity": 0.2
             }
            },
            "type": "barpolar"
           }
          ],
          "carpet": [
           {
            "aaxis": {
             "endlinecolor": "#2a3f5f",
             "gridcolor": "white",
             "linecolor": "white",
             "minorgridcolor": "white",
             "startlinecolor": "#2a3f5f"
            },
            "baxis": {
             "endlinecolor": "#2a3f5f",
             "gridcolor": "white",
             "linecolor": "white",
             "minorgridcolor": "white",
             "startlinecolor": "#2a3f5f"
            },
            "type": "carpet"
           }
          ],
          "choropleth": [
           {
            "colorbar": {
             "outlinewidth": 0,
             "ticks": ""
            },
            "type": "choropleth"
           }
          ],
          "contour": [
           {
            "colorbar": {
             "outlinewidth": 0,
             "ticks": ""
            },
            "colorscale": [
             [
              0,
              "#0d0887"
             ],
             [
              0.1111111111111111,
              "#46039f"
             ],
             [
              0.2222222222222222,
              "#7201a8"
             ],
             [
              0.3333333333333333,
              "#9c179e"
             ],
             [
              0.4444444444444444,
              "#bd3786"
             ],
             [
              0.5555555555555556,
              "#d8576b"
             ],
             [
              0.6666666666666666,
              "#ed7953"
             ],
             [
              0.7777777777777778,
              "#fb9f3a"
             ],
             [
              0.8888888888888888,
              "#fdca26"
             ],
             [
              1,
              "#f0f921"
             ]
            ],
            "type": "contour"
           }
          ],
          "contourcarpet": [
           {
            "colorbar": {
             "outlinewidth": 0,
             "ticks": ""
            },
            "type": "contourcarpet"
           }
          ],
          "heatmap": [
           {
            "colorbar": {
             "outlinewidth": 0,
             "ticks": ""
            },
            "colorscale": [
             [
              0,
              "#0d0887"
             ],
             [
              0.1111111111111111,
              "#46039f"
             ],
             [
              0.2222222222222222,
              "#7201a8"
             ],
             [
              0.3333333333333333,
              "#9c179e"
             ],
             [
              0.4444444444444444,
              "#bd3786"
             ],
             [
              0.5555555555555556,
              "#d8576b"
             ],
             [
              0.6666666666666666,
              "#ed7953"
             ],
             [
              0.7777777777777778,
              "#fb9f3a"
             ],
             [
              0.8888888888888888,
              "#fdca26"
             ],
             [
              1,
              "#f0f921"
             ]
            ],
            "type": "heatmap"
           }
          ],
          "heatmapgl": [
           {
            "colorbar": {
             "outlinewidth": 0,
             "ticks": ""
            },
            "colorscale": [
             [
              0,
              "#0d0887"
             ],
             [
              0.1111111111111111,
              "#46039f"
             ],
             [
              0.2222222222222222,
              "#7201a8"
             ],
             [
              0.3333333333333333,
              "#9c179e"
             ],
             [
              0.4444444444444444,
              "#bd3786"
             ],
             [
              0.5555555555555556,
              "#d8576b"
             ],
             [
              0.6666666666666666,
              "#ed7953"
             ],
             [
              0.7777777777777778,
              "#fb9f3a"
             ],
             [
              0.8888888888888888,
              "#fdca26"
             ],
             [
              1,
              "#f0f921"
             ]
            ],
            "type": "heatmapgl"
           }
          ],
          "histogram": [
           {
            "marker": {
             "pattern": {
              "fillmode": "overlay",
              "size": 10,
              "solidity": 0.2
             }
            },
            "type": "histogram"
           }
          ],
          "histogram2d": [
           {
            "colorbar": {
             "outlinewidth": 0,
             "ticks": ""
            },
            "colorscale": [
             [
              0,
              "#0d0887"
             ],
             [
              0.1111111111111111,
              "#46039f"
             ],
             [
              0.2222222222222222,
              "#7201a8"
             ],
             [
              0.3333333333333333,
              "#9c179e"
             ],
             [
              0.4444444444444444,
              "#bd3786"
             ],
             [
              0.5555555555555556,
              "#d8576b"
             ],
             [
              0.6666666666666666,
              "#ed7953"
             ],
             [
              0.7777777777777778,
              "#fb9f3a"
             ],
             [
              0.8888888888888888,
              "#fdca26"
             ],
             [
              1,
              "#f0f921"
             ]
            ],
            "type": "histogram2d"
           }
          ],
          "histogram2dcontour": [
           {
            "colorbar": {
             "outlinewidth": 0,
             "ticks": ""
            },
            "colorscale": [
             [
              0,
              "#0d0887"
             ],
             [
              0.1111111111111111,
              "#46039f"
             ],
             [
              0.2222222222222222,
              "#7201a8"
             ],
             [
              0.3333333333333333,
              "#9c179e"
             ],
             [
              0.4444444444444444,
              "#bd3786"
             ],
             [
              0.5555555555555556,
              "#d8576b"
             ],
             [
              0.6666666666666666,
              "#ed7953"
             ],
             [
              0.7777777777777778,
              "#fb9f3a"
             ],
             [
              0.8888888888888888,
              "#fdca26"
             ],
             [
              1,
              "#f0f921"
             ]
            ],
            "type": "histogram2dcontour"
           }
          ],
          "mesh3d": [
           {
            "colorbar": {
             "outlinewidth": 0,
             "ticks": ""
            },
            "type": "mesh3d"
           }
          ],
          "parcoords": [
           {
            "line": {
             "colorbar": {
              "outlinewidth": 0,
              "ticks": ""
             }
            },
            "type": "parcoords"
           }
          ],
          "pie": [
           {
            "automargin": true,
            "type": "pie"
           }
          ],
          "scatter": [
           {
            "marker": {
             "colorbar": {
              "outlinewidth": 0,
              "ticks": ""
             }
            },
            "type": "scatter"
           }
          ],
          "scatter3d": [
           {
            "line": {
             "colorbar": {
              "outlinewidth": 0,
              "ticks": ""
             }
            },
            "marker": {
             "colorbar": {
              "outlinewidth": 0,
              "ticks": ""
             }
            },
            "type": "scatter3d"
           }
          ],
          "scattercarpet": [
           {
            "marker": {
             "colorbar": {
              "outlinewidth": 0,
              "ticks": ""
             }
            },
            "type": "scattercarpet"
           }
          ],
          "scattergeo": [
           {
            "marker": {
             "colorbar": {
              "outlinewidth": 0,
              "ticks": ""
             }
            },
            "type": "scattergeo"
           }
          ],
          "scattergl": [
           {
            "marker": {
             "colorbar": {
              "outlinewidth": 0,
              "ticks": ""
             }
            },
            "type": "scattergl"
           }
          ],
          "scattermapbox": [
           {
            "marker": {
             "colorbar": {
              "outlinewidth": 0,
              "ticks": ""
             }
            },
            "type": "scattermapbox"
           }
          ],
          "scatterpolar": [
           {
            "marker": {
             "colorbar": {
              "outlinewidth": 0,
              "ticks": ""
             }
            },
            "type": "scatterpolar"
           }
          ],
          "scatterpolargl": [
           {
            "marker": {
             "colorbar": {
              "outlinewidth": 0,
              "ticks": ""
             }
            },
            "type": "scatterpolargl"
           }
          ],
          "scatterternary": [
           {
            "marker": {
             "colorbar": {
              "outlinewidth": 0,
              "ticks": ""
             }
            },
            "type": "scatterternary"
           }
          ],
          "surface": [
           {
            "colorbar": {
             "outlinewidth": 0,
             "ticks": ""
            },
            "colorscale": [
             [
              0,
              "#0d0887"
             ],
             [
              0.1111111111111111,
              "#46039f"
             ],
             [
              0.2222222222222222,
              "#7201a8"
             ],
             [
              0.3333333333333333,
              "#9c179e"
             ],
             [
              0.4444444444444444,
              "#bd3786"
             ],
             [
              0.5555555555555556,
              "#d8576b"
             ],
             [
              0.6666666666666666,
              "#ed7953"
             ],
             [
              0.7777777777777778,
              "#fb9f3a"
             ],
             [
              0.8888888888888888,
              "#fdca26"
             ],
             [
              1,
              "#f0f921"
             ]
            ],
            "type": "surface"
           }
          ],
          "table": [
           {
            "cells": {
             "fill": {
              "color": "#EBF0F8"
             },
             "line": {
              "color": "white"
             }
            },
            "header": {
             "fill": {
              "color": "#C8D4E3"
             },
             "line": {
              "color": "white"
             }
            },
            "type": "table"
           }
          ]
         },
         "layout": {
          "annotationdefaults": {
           "arrowcolor": "#2a3f5f",
           "arrowhead": 0,
           "arrowwidth": 1
          },
          "autotypenumbers": "strict",
          "coloraxis": {
           "colorbar": {
            "outlinewidth": 0,
            "ticks": ""
           }
          },
          "colorscale": {
           "diverging": [
            [
             0,
             "#8e0152"
            ],
            [
             0.1,
             "#c51b7d"
            ],
            [
             0.2,
             "#de77ae"
            ],
            [
             0.3,
             "#f1b6da"
            ],
            [
             0.4,
             "#fde0ef"
            ],
            [
             0.5,
             "#f7f7f7"
            ],
            [
             0.6,
             "#e6f5d0"
            ],
            [
             0.7,
             "#b8e186"
            ],
            [
             0.8,
             "#7fbc41"
            ],
            [
             0.9,
             "#4d9221"
            ],
            [
             1,
             "#276419"
            ]
           ],
           "sequential": [
            [
             0,
             "#0d0887"
            ],
            [
             0.1111111111111111,
             "#46039f"
            ],
            [
             0.2222222222222222,
             "#7201a8"
            ],
            [
             0.3333333333333333,
             "#9c179e"
            ],
            [
             0.4444444444444444,
             "#bd3786"
            ],
            [
             0.5555555555555556,
             "#d8576b"
            ],
            [
             0.6666666666666666,
             "#ed7953"
            ],
            [
             0.7777777777777778,
             "#fb9f3a"
            ],
            [
             0.8888888888888888,
             "#fdca26"
            ],
            [
             1,
             "#f0f921"
            ]
           ],
           "sequentialminus": [
            [
             0,
             "#0d0887"
            ],
            [
             0.1111111111111111,
             "#46039f"
            ],
            [
             0.2222222222222222,
             "#7201a8"
            ],
            [
             0.3333333333333333,
             "#9c179e"
            ],
            [
             0.4444444444444444,
             "#bd3786"
            ],
            [
             0.5555555555555556,
             "#d8576b"
            ],
            [
             0.6666666666666666,
             "#ed7953"
            ],
            [
             0.7777777777777778,
             "#fb9f3a"
            ],
            [
             0.8888888888888888,
             "#fdca26"
            ],
            [
             1,
             "#f0f921"
            ]
           ]
          },
          "colorway": [
           "#636efa",
           "#EF553B",
           "#00cc96",
           "#ab63fa",
           "#FFA15A",
           "#19d3f3",
           "#FF6692",
           "#B6E880",
           "#FF97FF",
           "#FECB52"
          ],
          "font": {
           "color": "#2a3f5f"
          },
          "geo": {
           "bgcolor": "white",
           "lakecolor": "white",
           "landcolor": "#E5ECF6",
           "showlakes": true,
           "showland": true,
           "subunitcolor": "white"
          },
          "hoverlabel": {
           "align": "left"
          },
          "hovermode": "closest",
          "mapbox": {
           "style": "light"
          },
          "paper_bgcolor": "white",
          "plot_bgcolor": "#E5ECF6",
          "polar": {
           "angularaxis": {
            "gridcolor": "white",
            "linecolor": "white",
            "ticks": ""
           },
           "bgcolor": "#E5ECF6",
           "radialaxis": {
            "gridcolor": "white",
            "linecolor": "white",
            "ticks": ""
           }
          },
          "scene": {
           "xaxis": {
            "backgroundcolor": "#E5ECF6",
            "gridcolor": "white",
            "gridwidth": 2,
            "linecolor": "white",
            "showbackground": true,
            "ticks": "",
            "zerolinecolor": "white"
           },
           "yaxis": {
            "backgroundcolor": "#E5ECF6",
            "gridcolor": "white",
            "gridwidth": 2,
            "linecolor": "white",
            "showbackground": true,
            "ticks": "",
            "zerolinecolor": "white"
           },
           "zaxis": {
            "backgroundcolor": "#E5ECF6",
            "gridcolor": "white",
            "gridwidth": 2,
            "linecolor": "white",
            "showbackground": true,
            "ticks": "",
            "zerolinecolor": "white"
           }
          },
          "shapedefaults": {
           "line": {
            "color": "#2a3f5f"
           }
          },
          "ternary": {
           "aaxis": {
            "gridcolor": "white",
            "linecolor": "white",
            "ticks": ""
           },
           "baxis": {
            "gridcolor": "white",
            "linecolor": "white",
            "ticks": ""
           },
           "bgcolor": "#E5ECF6",
           "caxis": {
            "gridcolor": "white",
            "linecolor": "white",
            "ticks": ""
           }
          },
          "title": {
           "x": 0.05
          },
          "xaxis": {
           "automargin": true,
           "gridcolor": "white",
           "linecolor": "white",
           "ticks": "",
           "title": {
            "standoff": 15
           },
           "zerolinecolor": "white",
           "zerolinewidth": 2
          },
          "yaxis": {
           "automargin": true,
           "gridcolor": "white",
           "linecolor": "white",
           "ticks": "",
           "title": {
            "standoff": 15
           },
           "zerolinecolor": "white",
           "zerolinewidth": 2
          }
         }
        },
        "title": {
         "text": "",
         "x": 0.5,
         "xanchor": "center",
         "y": 0.95,
         "yanchor": "top"
        },
        "xaxis": {
         "dtick": 1,
         "tick0": 0,
         "tickmode": "linear",
         "title": {
          "text": "Hour"
         }
        },
        "yaxis": {
         "dtick": 15,
         "tick0": 0,
         "tickmode": "linear",
         "title": {
          "text": ""
         }
        }
       }
      }
     },
     "metadata": {}
    }
   ],
   "metadata": {
    "pycharm": {
     "name": "#%%\n"
    }
   }
  }
 ],
 "metadata": {
  "interpreter": {
   "hash": "8bfba2622fd6e264bfd756a24f93ed2d92dfcc7ed6d53bdafef720c38959bfaa"
  },
  "kernelspec": {
   "name": "python3",
   "display_name": "Python 3.8.7 64-bit ('3.8.7': pyenv)"
  },
  "language_info": {
   "codemirror_mode": {
    "name": "ipython",
    "version": 3
   },
   "file_extension": ".py",
   "mimetype": "text/x-python",
   "name": "python",
   "nbconvert_exporter": "python",
   "pygments_lexer": "ipython3",
   "version": "3.8.7"
  }
 },
 "nbformat": 4,
 "nbformat_minor": 2
}