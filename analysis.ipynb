{
 "cells": [
  {
   "cell_type": "code",
   "execution_count": 151,
   "outputs": [],
   "source": [
    "import pandas as pd\n",
    "from os import listdir\n",
    "from os.path import isfile, join\n",
    "\n",
    "import re\n",
    "\n",
    "import plotly.express as px\n",
    "\n",
    "DATA_PATH = 'data/'"
   ],
   "metadata": {
    "collapsed": false,
    "pycharm": {
     "name": "#%%\n"
    }
   }
  },
  {
   "cell_type": "code",
   "execution_count": 152,
   "metadata": {
    "collapsed": true
   },
   "outputs": [],
   "source": [
    "# Read files\n",
    "onlyfiles = [f for f in listdir(DATA_PATH) if isfile(join(DATA_PATH, f))]\n",
    "\n",
    "# Get files name\n",
    "cashier_arrival = sorted(filter(lambda f : re.match(\"cashier-arrival\", f), onlyfiles))\n",
    "customer_arrival = sorted(filter(lambda f : re.match(\"customer-arrival\", f), onlyfiles))\n",
    "customer_basket = sorted(filter(lambda f : re.match(\"customer-basket\", f), onlyfiles))\n",
    "\n",
    "# Read files\n",
    "cashier_arrival = list(map(lambda x: pd.read_csv(join(DATA_PATH, x)), cashier_arrival))\n",
    "customer_arrival = list(map(lambda x: pd.read_csv(join(DATA_PATH, x)), customer_arrival))\n",
    "customer_basket = list(map(lambda x: pd.read_csv(join(DATA_PATH, x)), customer_basket))"
   ]
  },
  {
   "cell_type": "code",
   "execution_count": 153,
   "outputs": [],
   "source": [
    "def preprocess_df_arrival(df):\n",
    "    # Preprocess data\n",
    "    df = df.drop(columns=[\"NA\"], axis=1, errors='ignore')\n",
    "    df.iloc[:,-1] = df.iloc[:,-1].apply(round)\n",
    "    df.iloc[:,-1] = df.iloc[:,-1].astype('int32')\n",
    "    df[\"timestamp\"] = pd.to_datetime(df[\"timestamp\"])\n",
    "    df[\"timestamp\"] = df[\"timestamp\"].apply(lambda x: x.replace(minute=0, second=0))\n",
    "    # Aggregate time\n",
    "    df = df.groupby(by=\"timestamp\").sum()\n",
    "    df = df.reset_index()\n",
    "    # Normalize data\n",
    "    df[\"norm\"] = df.iloc[:,-1] / sum(df.iloc[:,-1])\n",
    "\n",
    "    return df"
   ],
   "metadata": {
    "collapsed": false,
    "pycharm": {
     "name": "#%%\n"
    }
   }
  },
  {
   "cell_type": "code",
   "execution_count": 154,
   "outputs": [],
   "source": [
    "def df_slice_time(cashier_arrival, customer_arrival):\n",
    "    # Min bound\n",
    "    min_cashier = max([min(x[\"timestamp\"]) for x in cashier_arrival])\n",
    "    min_customer = max([min(x[\"timestamp\"]) for x in customer_arrival])\n",
    "    min_bound = max([min_cashier, min_customer])\n",
    "    # Max bound\n",
    "    max_cashier = min([max(x[\"timestamp\"]) for x in cashier_arrival])\n",
    "    max_customer = min([max(x[\"timestamp\"]) for x in customer_arrival])\n",
    "    max_bound = max([max_cashier, max_customer])\n",
    "    # Slice\n",
    "    query_string = f'timestamp >= \"{min_bound}\" and timestamp <= \"{max_bound}\"'\n",
    "    new_cashier_arrival = [x.query(query_string) for x in cashier_arrival]\n",
    "    new_customer_arrival = [x.query(query_string) for x in customer_arrival]\n",
    "    return new_cashier_arrival, new_customer_arrival"
   ],
   "metadata": {
    "collapsed": false,
    "pycharm": {
     "name": "#%%\n"
    }
   }
  },
  {
   "cell_type": "code",
   "execution_count": 155,
   "outputs": [],
   "source": [
    "def combine_dataframe(cashier_df, customer_df):\n",
    "    for id, df in enumerate(customer_arrival):\n",
    "        cashier_df[id][\"store\"] = id\n",
    "        cashier_df[id][\"type\"] = \"customer\"\n",
    "    for id, df in enumerate(cashier_arrival):\n",
    "        customer_df[id][\"store\"] = id\n",
    "        customer_df[id][\"type\"] = \"cashier\"\n",
    "    # Rename\n",
    "    cashier_df = map(lambda x: x.coluns = [\"a\",\"b\"], cashier_df)\n",
    "    customer_df = map(lambda x: x.columns = [str(a) for a in range(5)], customer_df)\n",
    "    return cashier_df"
   ],
   "metadata": {
    "collapsed": false,
    "pycharm": {
     "name": "#%%\n"
    }
   }
  },
  {
   "cell_type": "code",
   "execution_count": 156,
   "outputs": [],
   "source": [
    "cashier_arrival = list(map(preprocess_df_arrival, cashier_arrival))\n",
    "customer_arrival = list(map(preprocess_df_arrival, customer_arrival))\n",
    "cashier_arrival, customer_arrival = df_slice_time(cashier_arrival, customer_arrival)"
   ],
   "metadata": {
    "collapsed": false,
    "pycharm": {
     "name": "#%%\n"
    }
   }
  },
  {
   "cell_type": "code",
   "execution_count": 157,
   "outputs": [
    {
     "data": {
      "text/plain": "[              timestamp  number-of-cashiers      norm  store      type\n 1   2018-02-01 07:00:00                   4  0.008368      0  customer\n 2   2018-02-01 08:00:00                   0  0.000000      0  customer\n 3   2018-02-01 09:00:00                   2  0.004184      0  customer\n 4   2018-02-01 10:00:00                   5  0.010460      0  customer\n 5   2018-02-01 11:00:00                   2  0.004184      0  customer\n ..                  ...                 ...       ...    ...       ...\n 324 2018-02-14 18:00:00                   0  0.000000      0  customer\n 325 2018-02-14 19:00:00                   5  0.010460      0  customer\n 326 2018-02-14 20:00:00                   0  0.000000      0  customer\n 327 2018-02-14 21:00:00                   0  0.000000      0  customer\n 328 2018-02-14 22:00:00                   0  0.000000      0  customer\n \n [328 rows x 5 columns],\n               timestamp  number-of-cashiers      norm  store      type\n 1   2018-02-01 07:00:00                   2  0.007843      1  customer\n 2   2018-02-01 08:00:00                   0  0.000000      1  customer\n 3   2018-02-01 09:00:00                   2  0.007843      1  customer\n 4   2018-02-01 10:00:00                   1  0.003922      1  customer\n 5   2018-02-01 11:00:00                   5  0.019608      1  customer\n ..                  ...                 ...       ...    ...       ...\n 324 2018-02-14 18:00:00                   0  0.000000      1  customer\n 325 2018-02-14 19:00:00                   3  0.011765      1  customer\n 326 2018-02-14 20:00:00                   0  0.000000      1  customer\n 327 2018-02-14 21:00:00                   0  0.000000      1  customer\n 328 2018-02-14 22:00:00                   0  0.000000      1  customer\n \n [328 rows x 5 columns],\n               timestamp  number-of-cashiers      norm  store      type\n 1   2018-02-01 07:00:00                   0  0.000000      2  customer\n 2   2018-02-01 08:00:00                   5  0.013966      2  customer\n 3   2018-02-01 09:00:00                   3  0.008380      2  customer\n 4   2018-02-01 10:00:00                   2  0.005587      2  customer\n 5   2018-02-01 11:00:00                   1  0.002793      2  customer\n ..                  ...                 ...       ...    ...       ...\n 324 2018-02-14 18:00:00                   0  0.000000      2  customer\n 325 2018-02-14 19:00:00                   4  0.011173      2  customer\n 326 2018-02-14 20:00:00                   0  0.000000      2  customer\n 327 2018-02-14 21:00:00                   0  0.000000      2  customer\n 328 2018-02-14 22:00:00                   0  0.000000      2  customer\n \n [328 rows x 5 columns]]"
     },
     "execution_count": 157,
     "metadata": {},
     "output_type": "execute_result"
    }
   ],
   "source": [
    "arrivals = combine_dataframe(cashier_arrival, customer_arrival)\n",
    "arrivals"
   ],
   "metadata": {
    "collapsed": false,
    "pycharm": {
     "name": "#%%\n"
    }
   }
  },
  {
   "cell_type": "code",
   "execution_count": null,
   "outputs": [],
   "source": [
    "\n"
   ],
   "metadata": {
    "collapsed": false,
    "pycharm": {
     "name": "#%%\n"
    }
   }
  }
 ],
 "metadata": {
  "kernelspec": {
   "display_name": "Python 3",
   "language": "python",
   "name": "python3"
  },
  "language_info": {
   "codemirror_mode": {
    "name": "ipython",
    "version": 2
   },
   "file_extension": ".py",
   "mimetype": "text/x-python",
   "name": "python",
   "nbconvert_exporter": "python",
   "pygments_lexer": "ipython2",
   "version": "2.7.6"
  }
 },
 "nbformat": 4,
 "nbformat_minor": 0
}